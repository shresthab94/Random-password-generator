{
 "cells": [
  {
   "cell_type": "code",
   "execution_count": 14,
   "id": "86182c34-a8ef-4ce1-a69a-53f947b6de53",
   "metadata": {},
   "outputs": [],
   "source": [
    "\n",
    "import random"
   ]
  },
  {
   "cell_type": "code",
   "execution_count": 15,
   "id": "fb837706-813d-425c-a91f-dc8f6e039b09",
   "metadata": {},
   "outputs": [],
   "source": [
    "DIGITS = ['0', '1', '2', '3', '4', '5', '6', '7', '8', '9'] \n",
    "LOCASE_CHARACTERS = ['a', 'b', 'c', 'd', 'e', 'f', 'g', 'h',\n",
    "                     'i', 'j', 'k', 'm', 'n', 'o', 'p', 'q',\n",
    "                     'r', 's', 't', 'u', 'v', 'w', 'x', 'y',\n",
    "                     'z']\n",
    " \n",
    "UPCASE_CHARACTERS = ['A', 'B', 'C', 'D', 'E', 'F', 'G', 'H',\n",
    "                     'I', 'J', 'K', 'M', 'N', 'O', 'P', 'Q',\n",
    "                     'R', 'S', 'T', 'U', 'V', 'W', 'X', 'Y',\n",
    "                     'Z']\n",
    " \n",
    "SYMBOLS = ['@', '#', '$', '%', '=', ':', '?', '.', '/', '|', '~', '>',\n",
    "           '*', '(', ')', '<']"
   ]
  },
  {
   "cell_type": "code",
   "execution_count": 16,
   "id": "86ca3bc6-2998-42bc-ab2b-c9b670203ab1",
   "metadata": {},
   "outputs": [
    {
     "name": "stdout",
     "output_type": "stream",
     "text": [
      "['0', '1', '2', '3', '4', '5', '6', '7', '8', '9', 'a', 'b', 'c', 'd', 'e', 'f', 'g', 'h', 'i', 'j', 'k', 'm', 'n', 'o', 'p', 'q', 'r', 's', 't', 'u', 'v', 'w', 'x', 'y', 'z', 'A', 'B', 'C', 'D', 'E', 'F', 'G', 'H', 'I', 'J', 'K', 'M', 'N', 'O', 'P', 'Q', 'R', 'S', 'T', 'U', 'V', 'W', 'X', 'Y', 'Z', '@', '#', '$', '%', '=', ':', '?', '.', '/', '|', '~', '>', '*', '(', ')', '<']\n"
     ]
    }
   ],
   "source": [
    "options = DIGITS+LOCASE_CHARACTERS+UPCASE_CHARACTERS+SYMBOLS\n",
    "print(options)"
   ]
  },
  {
   "cell_type": "code",
   "execution_count": 17,
   "id": "196da061-3ff3-4c45-835f-9368f56eb8d9",
   "metadata": {},
   "outputs": [
    {
     "name": "stdin",
     "output_type": "stream",
     "text": [
      "Enter the number of characters 12\n"
     ]
    }
   ],
   "source": [
    "number_of_characters = int(input(\"Enter the number of characters\"))\n",
    "password = \"\""
   ]
  },
  {
   "cell_type": "code",
   "execution_count": 21,
   "id": "4ae5f535-ed76-40f0-9908-abacd6888d64",
   "metadata": {},
   "outputs": [],
   "source": [
    "for i in range(number_of_characters):\n",
    "    password =password+random.choice(options)\n",
    "    "
   ]
  },
  {
   "cell_type": "code",
   "execution_count": 25,
   "id": "f8adcaa4-db21-42b3-9000-50341e439b5e",
   "metadata": {},
   "outputs": [
    {
     "name": "stdout",
     "output_type": "stream",
     "text": [
      "the password generated for you: yJ/kycNB@es3\n"
     ]
    }
   ],
   "source": [
    "print(\"the password generated for you: \" +password)"
   ]
  },
  {
   "cell_type": "code",
   "execution_count": null,
   "id": "50cfe176-a521-4736-9f17-78fc3b679a59",
   "metadata": {},
   "outputs": [],
   "source": []
  }
 ],
 "metadata": {
  "kernelspec": {
   "display_name": "Python 3 (ipykernel)",
   "language": "python",
   "name": "python3"
  },
  "language_info": {
   "codemirror_mode": {
    "name": "ipython",
    "version": 3
   },
   "file_extension": ".py",
   "mimetype": "text/x-python",
   "name": "python",
   "nbconvert_exporter": "python",
   "pygments_lexer": "ipython3",
   "version": "3.7.11"
  }
 },
 "nbformat": 4,
 "nbformat_minor": 5
}
